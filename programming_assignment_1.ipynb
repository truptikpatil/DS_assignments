{
 "cells": [
  {
   "cell_type": "markdown",
   "id": "dbf2be38",
   "metadata": {},
   "source": [
    "1. Write a Python program to print \"Hello Python\""
   ]
  },
  {
   "cell_type": "code",
   "execution_count": 1,
   "id": "aada3335",
   "metadata": {},
   "outputs": [
    {
     "name": "stdout",
     "output_type": "stream",
     "text": [
      "Hello Python\n"
     ]
    }
   ],
   "source": [
    "print(\"Hello Python\")"
   ]
  },
  {
   "cell_type": "code",
   "execution_count": 3,
   "id": "6cb80707",
   "metadata": {},
   "outputs": [
    {
     "name": "stdout",
     "output_type": "stream",
     "text": [
      "Enter first number : 10\n",
      "Enter second number : 20\n",
      "addition of 10 and 20 is : 30\n",
      "division of 10 by 20 is : 0.5\n"
     ]
    }
   ],
   "source": [
    "a=int(input(\"Enter first number : \"))\n",
    "\n",
    "b=int(input(\"Enter second number : \"))\n",
    "\n",
    "print(f\"addition of {a} and {b} is : {a+b}\")\n",
    "\n",
    "print(f\"division of {a} by {b} is : {a/b}\")\n",
    "\n"
   ]
  },
  {
   "cell_type": "markdown",
   "id": "0bf58665",
   "metadata": {},
   "source": [
    "3.Write a Python program to find the area of a triangle?"
   ]
  },
  {
   "cell_type": "code",
   "execution_count": 4,
   "id": "df2de709",
   "metadata": {},
   "outputs": [
    {
     "name": "stdout",
     "output_type": "stream",
     "text": [
      "Enter height of triangle in cm : 8\n",
      "Enter base of triangle in cm : 10\n",
      "Area of triangle is : 40.0 sqcm\n"
     ]
    }
   ],
   "source": [
    "h=int(input(\"Enter height of triangle in cm : \"))\n",
    "\n",
    "b=int(input(\"Enter base of triangle in cm : \"))\n",
    "\n",
    "print(f\"Area of triangle is : {0.5*h*b} sqcm\")"
   ]
  },
  {
   "cell_type": "markdown",
   "id": "bb33da1e",
   "metadata": {},
   "source": [
    "4. Write a Python program to swap two variables?"
   ]
  },
  {
   "cell_type": "code",
   "execution_count": 5,
   "id": "50fbce3c",
   "metadata": {},
   "outputs": [
    {
     "name": "stdout",
     "output_type": "stream",
     "text": [
      "value of a and b before swapping : 10 and 20\n",
      "value of a and b after swapping : 20 and 10\n"
     ]
    }
   ],
   "source": [
    "a=10\n",
    "b=20\n",
    "print(f\"value of a and b before swapping : {a} and {b}\")\n",
    "c=a\n",
    "a=b\n",
    "b=c\n",
    "print(f\"value of a and b after swapping : {a} and {b}\")"
   ]
  },
  {
   "cell_type": "markdown",
   "id": "7fd3d3e5",
   "metadata": {},
   "source": [
    "5. Write a Python program to generate a random number?"
   ]
  },
  {
   "cell_type": "code",
   "execution_count": 12,
   "id": "b07852fd",
   "metadata": {},
   "outputs": [
    {
     "name": "stdout",
     "output_type": "stream",
     "text": [
      "random integer number between 0 to 100 :  44\n",
      "random number is :  0.7877071245454221\n"
     ]
    }
   ],
   "source": [
    "import random as rand\n",
    "\n",
    "print(\"random integer number between 0 to 100 : \",rand.randint(0,100))\n",
    "\n",
    "\n",
    "print(\"random number is : \",rand.random())\n",
    "\n"
   ]
  },
  {
   "cell_type": "code",
   "execution_count": null,
   "id": "b596873c",
   "metadata": {},
   "outputs": [],
   "source": []
  },
  {
   "cell_type": "code",
   "execution_count": null,
   "id": "35cd4a7a",
   "metadata": {},
   "outputs": [],
   "source": []
  }
 ],
 "metadata": {
  "kernelspec": {
   "display_name": "Python 3 (ipykernel)",
   "language": "python",
   "name": "python3"
  },
  "language_info": {
   "codemirror_mode": {
    "name": "ipython",
    "version": 3
   },
   "file_extension": ".py",
   "mimetype": "text/x-python",
   "name": "python",
   "nbconvert_exporter": "python",
   "pygments_lexer": "ipython3",
   "version": "3.9.13"
  }
 },
 "nbformat": 4,
 "nbformat_minor": 5
}
