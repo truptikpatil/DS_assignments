{
 "cells": [
  {
   "cell_type": "markdown",
   "id": "6b76547d-1630-4429-9cde-6d3e6221d5f9",
   "metadata": {},
   "source": [
    "1. Write a Python Program to Find LCM?"
   ]
  },
  {
   "cell_type": "code",
   "execution_count": 7,
   "id": "d333a527-950f-407a-9c2f-c35b20c7e8ff",
   "metadata": {},
   "outputs": [
    {
     "name": "stdin",
     "output_type": "stream",
     "text": [
      "Enter first number : 10\n",
      "Enter second number: 20\n"
     ]
    },
    {
     "name": "stdout",
     "output_type": "stream",
     "text": [
      "LCM: 20.0\n"
     ]
    }
   ],
   "source": [
    "a=int(input(\"Enter first number :\"))\n",
    "b=int(input(\"Enter second number:\"))\n",
    "\n",
    "if a<b:\n",
    "    small_number=a\n",
    "else:\n",
    "    small_number=b\n",
    "hcf=1\n",
    "for i in range(1,small_number+1):\n",
    "    if a%i==0 and b%i==0:\n",
    "        hcf=i\n",
    "\n",
    "print(\"LCM:\",(a*b)/hcf)"
   ]
  },
  {
   "cell_type": "markdown",
   "id": "37a4fa01-9339-4c7e-bc26-abf4734c4a30",
   "metadata": {},
   "source": [
    "2. Write a Python Program to Find HCF?"
   ]
  },
  {
   "cell_type": "code",
   "execution_count": 6,
   "id": "84b1954a-e515-47a9-bc2f-43e63dbe706d",
   "metadata": {},
   "outputs": [
    {
     "name": "stdin",
     "output_type": "stream",
     "text": [
      "Enter first number : 10\n",
      "Enter second number: 20\n"
     ]
    },
    {
     "name": "stdout",
     "output_type": "stream",
     "text": [
      "HCF: 10\n"
     ]
    }
   ],
   "source": [
    "a=int(input(\"Enter first number :\"))\n",
    "b=int(input(\"Enter second number:\"))\n",
    "\n",
    "if a<b:\n",
    "    small_number=a\n",
    "else:\n",
    "    small_number=b\n",
    "new_sn=small_number//2\n",
    "hcf=1\n",
    "for i in range(1,small_number+1):\n",
    "    if a%i==0 and b%i==0:\n",
    "        hcf=i\n",
    "print(\"HCF:\", hcf)\n"
   ]
  },
  {
   "cell_type": "markdown",
   "id": "cf1ba6a2-8b16-4125-aeef-e1222b8cf3d2",
   "metadata": {},
   "source": [
    "3. Write a Python Program to Convert Decimal to Binary, Octal and Hexadecimal?"
   ]
  },
  {
   "cell_type": "code",
   "execution_count": 8,
   "id": "7936a851-c602-4201-a9c5-38cd29d70091",
   "metadata": {},
   "outputs": [
    {
     "name": "stdin",
     "output_type": "stream",
     "text": [
      "Enter decimal number to convert : 10\n"
     ]
    },
    {
     "name": "stdout",
     "output_type": "stream",
     "text": [
      "Binary value :  1010\n",
      "octal value :  12\n",
      "hexadecimal value :  A\n"
     ]
    }
   ],
   "source": [
    "\n",
    "def dec_to_binary(decimal):\n",
    "    binary=\"\"\n",
    "    while decimal>0:\n",
    "        binary=str(decimal%2)+binary\n",
    "        decimal=decimal//2\n",
    "    return binary\n",
    "def dec_to_octal(decimal):\n",
    "    octal=\"\"\n",
    "    while decimal>0:\n",
    "        octal=str(decimal%8)+octal\n",
    "        decimal=decimal//8\n",
    "    return octal\n",
    "def dec_to_hex(decimal):\n",
    "    hex_num=\"\"\n",
    "    hex_code = \"0123456789ABCDEF\"\n",
    "    while decimal>0:\n",
    "        remainder=decimal%16\n",
    "        hex_num = hex_code[remainder] + hex_num\n",
    "        decimal=decimal//16\n",
    "    return hex_num\n",
    "\n",
    "decimal=int(input(\"Enter decimal number to convert :\"))\n",
    "\n",
    "binary=dec_to_binary(decimal)\n",
    "octal=dec_to_octal(decimal)\n",
    "hex_num=dec_to_hex(decimal)\n",
    "\n",
    "print(\"Binary value : \",binary)\n",
    "print(\"octal value : \",octal)\n",
    "print(\"hexadecimal value : \",hex_num)\n"
   ]
  },
  {
   "cell_type": "markdown",
   "id": "7a55725a-0fbe-4543-ba22-916dd93d56a0",
   "metadata": {},
   "source": [
    "4. Write a Python Program To Find ASCII value of a character?"
   ]
  },
  {
   "cell_type": "code",
   "execution_count": 13,
   "id": "43acc40a-a81f-49bc-9da7-8d4d87cf1fed",
   "metadata": {},
   "outputs": [
    {
     "name": "stdin",
     "output_type": "stream",
     "text": [
      "Enter a character:  K\n"
     ]
    },
    {
     "name": "stdout",
     "output_type": "stream",
     "text": [
      "The ASCII value of K is 75\n"
     ]
    }
   ],
   "source": [
    "\n",
    "character = input(\"Enter a character: \")\n",
    "\n",
    "\n",
    "ascii_value = ord(character)\n",
    "\n",
    "print(\"The ASCII value of\", character, \"is\", ascii_value)\n"
   ]
  },
  {
   "cell_type": "markdown",
   "id": "cee652e4-d121-47e8-9732-36d3c641d9ea",
   "metadata": {},
   "source": [
    "5. Write a Python Program to Make a Simple Calculator with 4 basic mathematical operations?"
   ]
  },
  {
   "cell_type": "code",
   "execution_count": 21,
   "id": "d0e37c2f-3c22-48b9-8739-ac74fcc5a479",
   "metadata": {},
   "outputs": [
    {
     "name": "stdin",
     "output_type": "stream",
     "text": [
      "Enter first number : 5\n",
      "Enter second number : 3\n",
      "Enter any of the option for mathematical operation:A for addition,S for subtraction,M for multiplication,D for division j\n"
     ]
    },
    {
     "name": "stdout",
     "output_type": "stream",
     "text": [
      "Invalid input!Please enter a valid operation\n"
     ]
    },
    {
     "name": "stdin",
     "output_type": "stream",
     "text": [
      "Enter any of the option for mathematical operation:A for addition,S for subtraction,M for multiplication,D for division m\n"
     ]
    },
    {
     "name": "stdout",
     "output_type": "stream",
     "text": [
      "Multiplication is :  15.0\n"
     ]
    }
   ],
   "source": [
    "def addition(num1,num2):\n",
    "    add_result=num1+num2\n",
    "    return add_result\n",
    "def sutraction(num1,num2):\n",
    "    sub_result=num1-num2\n",
    "    return sub_result\n",
    "def multiplication(num1,num2):\n",
    "    mul_result=num1*num2\n",
    "    return mul_result\n",
    "def division(num1,num2):\n",
    "    div_result=num1/num2\n",
    "    return div_result\n",
    "num1 =float(input(\"Enter first number :\"))\n",
    "num2 =float(input(\"Enter second number :\"))\n",
    "\n",
    "add_result = addition(num1,num2)\n",
    "sub_result=sutraction(num1,num2)\n",
    "mul_result=multiplication(num1,num2)\n",
    "div_result=division(num1,num2)\n",
    "valid=False\n",
    "\n",
    "while(valid is False):\n",
    "    operation=input(\"Enter any of the option for mathematical operation:A for addition,S for subtraction,M for multiplication,D for division\")\n",
    "    if operation.lower()==\"a\":\n",
    "        print(\"Addition is : \",add_result)\n",
    "        valid=True\n",
    "    elif operation.lower()==\"s\":\n",
    "        print(\"Subtraction is : \",sub_result)\n",
    "        valid=True\n",
    "    elif operation.lower()==\"m\":\n",
    "        print(\"Multiplication is : \",mul_result)\n",
    "        valid=True\n",
    "    elif operation.lower()==\"d\":\n",
    "        print(\"Division is : \",div_result)\n",
    "        valid=True\n",
    "    else:\n",
    "        print(\"Invalid input!Please enter a valid operation!\")"
   ]
  },
  {
   "cell_type": "code",
   "execution_count": null,
   "id": "542bd857-441d-44a4-af7c-532d848c370b",
   "metadata": {},
   "outputs": [],
   "source": []
  }
 ],
 "metadata": {
  "kernelspec": {
   "display_name": "Python 3 (ipykernel)",
   "language": "python",
   "name": "python3"
  },
  "language_info": {
   "codemirror_mode": {
    "name": "ipython",
    "version": 3
   },
   "file_extension": ".py",
   "mimetype": "text/x-python",
   "name": "python",
   "nbconvert_exporter": "python",
   "pygments_lexer": "ipython3",
   "version": "3.9.13"
  }
 },
 "nbformat": 4,
 "nbformat_minor": 5
}
