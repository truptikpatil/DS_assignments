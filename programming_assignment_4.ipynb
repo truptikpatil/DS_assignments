{
 "cells": [
  {
   "cell_type": "markdown",
   "id": "da0c4d7a-86f7-41af-80c8-40738c0831fc",
   "metadata": {},
   "source": [
    "1. Write a Python Program to Find the Factorial of a Number?"
   ]
  },
  {
   "cell_type": "code",
   "execution_count": 2,
   "id": "ddcfc757",
   "metadata": {},
   "outputs": [
    {
     "name": "stdin",
     "output_type": "stream",
     "text": [
      "Enter number to find factorial :  2\n"
     ]
    },
    {
     "name": "stdout",
     "output_type": "stream",
     "text": [
      "2\n"
     ]
    }
   ],
   "source": [
    "num = int(input(\"Enter number to find factorial : \"))\n",
    "fact=1\n",
    "if num == 0:\n",
    "    fact =fact\n",
    "else:\n",
    "    for num1 in range(1,num+1):\n",
    "        fact=fact*num1\n",
    "print(fact)"
   ]
  },
  {
   "cell_type": "markdown",
   "id": "a92c66f3",
   "metadata": {},
   "source": [
    "2. Write a Python Program to Display the multiplication Table?"
   ]
  },
  {
   "cell_type": "code",
   "execution_count": 3,
   "id": "f96de0ab",
   "metadata": {},
   "outputs": [
    {
     "name": "stdin",
     "output_type": "stream",
     "text": [
      "Enter number to display the multiplication table :  11\n"
     ]
    },
    {
     "name": "stdout",
     "output_type": "stream",
     "text": [
      "11\n",
      "22\n",
      "33\n",
      "44\n",
      "55\n",
      "66\n",
      "77\n",
      "88\n",
      "99\n",
      "110\n"
     ]
    }
   ],
   "source": [
    "number = int(input(\"Enter number to display the multiplication table : \"))\n",
    "\n",
    "for i in range(1,11):\n",
    "    \n",
    "    result=i*number\n",
    "    \n",
    "    print(result)"
   ]
  },
  {
   "cell_type": "markdown",
   "id": "3b84b83f",
   "metadata": {},
   "source": [
    "3. Write a Python Program to Print the Fibonacci sequence?"
   ]
  },
  {
   "cell_type": "code",
   "execution_count": 4,
   "id": "86e5d4d0",
   "metadata": {},
   "outputs": [
    {
     "name": "stdin",
     "output_type": "stream",
     "text": [
      "Enter number of terms to print the Fibonacci sequence?  4\n"
     ]
    },
    {
     "name": "stdout",
     "output_type": "stream",
     "text": [
      "0\n",
      "1\n",
      "1\n",
      "2\n"
     ]
    }
   ],
   "source": [
    "term = int(input(\"Enter number of terms to print the Fibonacci sequence? \"))\n",
    "#0 1 1 2 3 5 8\n",
    "add_n1 = 0\n",
    "add_n2 = 1\n",
    "print(add_n1)\n",
    "for i in range(0,term-1):\n",
    "    add=add_n1 + add_n2\n",
    "    add_n2=add_n1\n",
    "    add_n1 = add \n",
    "    print(add)\n",
    "          "
   ]
  },
  {
   "cell_type": "markdown",
   "id": "a9080d8a",
   "metadata": {},
   "source": [
    "4. Write a Python Program to Check Armstrong Number?"
   ]
  },
  {
   "cell_type": "code",
   "execution_count": 9,
   "id": "ce49d332",
   "metadata": {},
   "outputs": [
    {
     "name": "stdin",
     "output_type": "stream",
     "text": [
      "Enter number: 370\n"
     ]
    },
    {
     "name": "stdout",
     "output_type": "stream",
     "text": [
      "370 is an Armstrong number\n"
     ]
    }
   ],
   "source": [
    "a_num = int(input(\"Enter number:\"))\n",
    "\n",
    "sum1 = 0\n",
    "            \n",
    "num1=a_num\n",
    "            \n",
    "while num1 > 0:\n",
    "            \n",
    "   digit = num1 % 10\n",
    "            \n",
    "   sum1 = sum1 + (digit ** 3)\n",
    "            \n",
    "   num1 = num1//10\n",
    "\n",
    "if a_num == sum1:\n",
    "            \n",
    "   print(a_num,\"is an Armstrong number\")\n",
    "            \n",
    "else:\n",
    "   print(a_num,\"is not an Armstrong number\")\n",
    "\n",
    "    \n"
   ]
  },
  {
   "cell_type": "markdown",
   "id": "d0678072",
   "metadata": {},
   "source": [
    "5. Write a Python Program to Find Armstrong Number in an Interval?"
   ]
  },
  {
   "cell_type": "code",
   "execution_count": 10,
   "id": "52e0284c-4c24-4d5d-9df8-dc9837236baa",
   "metadata": {},
   "outputs": [
    {
     "name": "stdin",
     "output_type": "stream",
     "text": [
      "Enter lower value:  300\n",
      "Enter upper value:  400\n"
     ]
    },
    {
     "name": "stdout",
     "output_type": "stream",
     "text": [
      "370\n",
      "371\n"
     ]
    }
   ],
   "source": [
    "lower =int(input(\"Enter lower value: \"))\n",
    "upper =int(input(\"Enter upper value: \"))\n",
    "\n",
    "for num in range(lower, upper + 1):\n",
    "\n",
    "   \n",
    "   order = len(str(num))\n",
    "    \n",
    "   \n",
    "   sum = 0\n",
    "\n",
    "   temp = num\n",
    "   while temp > 0:\n",
    "       digit = temp % 10\n",
    "       sum += digit ** order\n",
    "       temp = temp//10\n",
    "\n",
    "   if num == sum:\n",
    "       print(num)"
   ]
  },
  {
   "cell_type": "markdown",
   "id": "7cdb62ad-373f-4cb5-b33f-249fa4c1c904",
   "metadata": {},
   "source": [
    "6. Write a Python Program to Find the Sum of Natural Numbers?"
   ]
  },
  {
   "cell_type": "code",
   "execution_count": 7,
   "id": "e53f5a30-0d6c-409a-be5c-f6a619e50ae3",
   "metadata": {},
   "outputs": [
    {
     "name": "stdin",
     "output_type": "stream",
     "text": [
      "Enter the number upto which you want to do the addition:  3\n"
     ]
    },
    {
     "name": "stdout",
     "output_type": "stream",
     "text": [
      "6\n"
     ]
    }
   ],
   "source": [
    "num3=int(input(\"Enter the number upto which you want to do the addition: \"))\n",
    "\n",
    "add = 0\n",
    "if num3 > 0:\n",
    "    \n",
    "    for i in range(1,num3+1):\n",
    "        add = add+i\n",
    "    print(add)\n",
    "else:\n",
    "    print(\"0 is not a natural number!\")"
   ]
  },
  {
   "cell_type": "code",
   "execution_count": null,
   "id": "6234a36a-63c7-4065-a027-35c0118747e5",
   "metadata": {},
   "outputs": [],
   "source": []
  }
 ],
 "metadata": {
  "kernelspec": {
   "display_name": "Python 3 (ipykernel)",
   "language": "python",
   "name": "python3"
  },
  "language_info": {
   "codemirror_mode": {
    "name": "ipython",
    "version": 3
   },
   "file_extension": ".py",
   "mimetype": "text/x-python",
   "name": "python",
   "nbconvert_exporter": "python",
   "pygments_lexer": "ipython3",
   "version": "3.9.13"
  }
 },
 "nbformat": 4,
 "nbformat_minor": 5
}
