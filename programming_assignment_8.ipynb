{
 "cells": [
  {
   "cell_type": "markdown",
   "id": "b5baf4ec-8617-422a-9a85-6fde2c0b54f7",
   "metadata": {},
   "source": [
    "1. Write a Python Program to Add Two Matrices?"
   ]
  },
  {
   "cell_type": "code",
   "execution_count": 20,
   "id": "1c413ff1-6a1f-46da-a7ab-a7b86fc1909b",
   "metadata": {},
   "outputs": [
    {
     "name": "stdout",
     "output_type": "stream",
     "text": [
      "Addition of given matrices:\n",
      " [[11 22 33]\n",
      " [19 30 41]\n",
      " [18 29 40]]\n"
     ]
    }
   ],
   "source": [
    "import numpy as np\n",
    "\n",
    "A = np.array([[1,2,3],[4,5,6],[7,8,9]])\n",
    "B = np.array([[10,20,30],[15,25,35],[11,21,31]])\n",
    "\n",
    "addition = A+B\n",
    "\n",
    "print(\"Addition of given matrices:\\n\",addition )\n"
   ]
  },
  {
   "cell_type": "markdown",
   "id": "17af3307-574c-4902-a4a8-cbcc5bb64ebe",
   "metadata": {},
   "source": [
    "2. Write a Python Program to Multiply Two Matrices?"
   ]
  },
  {
   "cell_type": "code",
   "execution_count": 21,
   "id": "f3b4ccb5-284e-4fea-88f3-0b78f396d360",
   "metadata": {},
   "outputs": [
    {
     "name": "stdout",
     "output_type": "stream",
     "text": [
      "Multiplication of given matrices:\n",
      " [[17 27 15]\n",
      " [47 66 36]\n",
      " [43 51 27]]\n"
     ]
    }
   ],
   "source": [
    "import numpy as np\n",
    "\n",
    "A = np.array([[1,2,3],[4,5,6],[5,4,3]])\n",
    "B = np.array([[4,2,1],[5,8,4],[1,3,2]])\n",
    "\n",
    "multiplication = A.dot(B)\n",
    "\n",
    "print(\"Multiplication of given matrices:\\n\",multiplication)"
   ]
  },
  {
   "cell_type": "markdown",
   "id": "54875777-f480-47ed-ab21-3834ba894a61",
   "metadata": {},
   "source": [
    "3. Write a Python Program to Transpose a Matrix?"
   ]
  },
  {
   "cell_type": "code",
   "execution_count": 22,
   "id": "4b54f759-8cf0-4935-83e2-cd9220d3a7f3",
   "metadata": {},
   "outputs": [
    {
     "name": "stdout",
     "output_type": "stream",
     "text": [
      "Transpose of given matrix:\n",
      " [[1 4 5]\n",
      " [2 5 4]]\n"
     ]
    }
   ],
   "source": [
    "import numpy as np\n",
    "\n",
    "A = np.array([[1,2],[4,5],[5,4]])\n",
    "\n",
    "result = A.transpose()\n",
    "\n",
    "\n",
    "print(\"Transpose of given matrix:\\n\",result)\n"
   ]
  },
  {
   "cell_type": "markdown",
   "id": "a9501841-cefd-463a-af6a-d498d9ac7a05",
   "metadata": {},
   "source": [
    "4. Write a Python Program to Sort Words in Alphabetic Order?"
   ]
  },
  {
   "cell_type": "code",
   "execution_count": 17,
   "id": "02b43033-b069-43b0-8d3a-725d0f53ed92",
   "metadata": {},
   "outputs": [
    {
     "name": "stdin",
     "output_type": "stream",
     "text": [
      "Enter sentence :  this is trupti\n"
     ]
    },
    {
     "name": "stdout",
     "output_type": "stream",
     "text": [
      "['is', 'this', 'trupti']\n"
     ]
    }
   ],
   "source": [
    "words=input(\"Enter sentence : \")\n",
    "\n",
    "result=sorted(words.split(' '))\n",
    "\n",
    "print(result)\n"
   ]
  },
  {
   "cell_type": "markdown",
   "id": "1e417cb5-2ede-4c4a-8c5f-d043de7ea84e",
   "metadata": {},
   "source": [
    "5. Write a Python Program to Remove Punctuation From a String?"
   ]
  },
  {
   "cell_type": "code",
   "execution_count": 24,
   "id": "0a411de3-d20a-4215-96a8-c0aa683a5475",
   "metadata": {},
   "outputs": [
    {
     "name": "stdin",
     "output_type": "stream",
     "text": [
      "Enter a string : \"[this is so ------- wonderful!!@~]\"\n"
     ]
    },
    {
     "name": "stdout",
     "output_type": "stream",
     "text": [
      "this is so  wonderful\n"
     ]
    }
   ],
   "source": [
    "punctuations = '''!()-[]{};:'\"\\,<>./?@#$%^&*_~'''\n",
    "\n",
    "string = input(\"Enter a string :\")\n",
    "\n",
    "remove_punc=\"\"\n",
    "\n",
    "for char in string:\n",
    "    if char not in punctuations:\n",
    "         remove_punc = remove_punc+char\n",
    "            \n",
    "print(remove_punc)\n",
    "    "
   ]
  },
  {
   "cell_type": "code",
   "execution_count": null,
   "id": "b42d9a81-c7a8-46f1-bd3c-2ffbb928c2c9",
   "metadata": {},
   "outputs": [],
   "source": []
  }
 ],
 "metadata": {
  "kernelspec": {
   "display_name": "Python 3 (ipykernel)",
   "language": "python",
   "name": "python3"
  },
  "language_info": {
   "codemirror_mode": {
    "name": "ipython",
    "version": 3
   },
   "file_extension": ".py",
   "mimetype": "text/x-python",
   "name": "python",
   "nbconvert_exporter": "python",
   "pygments_lexer": "ipython3",
   "version": "3.9.13"
  }
 },
 "nbformat": 4,
 "nbformat_minor": 5
}
