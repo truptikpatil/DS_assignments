{
 "cells": [
  {
   "cell_type": "markdown",
   "id": "e165e7a8-9f69-46bb-b013-34c85f055b6c",
   "metadata": {},
   "source": [
    "1. Write a Python Program to find sum of array?"
   ]
  },
  {
   "cell_type": "code",
   "execution_count": 1,
   "id": "744b8fe2-af26-49c8-a832-cb4236f10f60",
   "metadata": {},
   "outputs": [
    {
     "name": "stdout",
     "output_type": "stream",
     "text": [
      "Sum of array:  26\n"
     ]
    }
   ],
   "source": [
    "def sum_array(array):\n",
    "    \n",
    "    add=0\n",
    "    for i in array:\n",
    "        add=add+i\n",
    "    return add\n",
    "\n",
    "array=[2,4,5,9,6]\n",
    "\n",
    "result=sum_array(array)\n",
    "\n",
    "print(\"Sum of array: \",result)\n"
   ]
  },
  {
   "cell_type": "markdown",
   "id": "d09bfc5d-8d6e-48b0-acc2-fb471356363b",
   "metadata": {},
   "source": [
    "2. Write a Python Program to find largest element in an array?"
   ]
  },
  {
   "cell_type": "code",
   "execution_count": 2,
   "id": "b042d827-4dbc-4808-a5d2-4945a46f6a81",
   "metadata": {},
   "outputs": [
    {
     "name": "stdout",
     "output_type": "stream",
     "text": [
      "Largest Element : 20\n"
     ]
    }
   ],
   "source": [
    "def largest_element(array):\n",
    "    \n",
    "    large_num=0\n",
    "    \n",
    "    for i in array:\n",
    "        \n",
    "        if i>large_num:\n",
    "            \n",
    "            large_num=i\n",
    "            \n",
    "    return large_num\n",
    "    \n",
    "array=[4,20,1,5,9]\n",
    "\n",
    "result=largest_element(array)\n",
    "\n",
    "print(\"Largest Element :\",result)\n",
    "            \n",
    "            "
   ]
  },
  {
   "cell_type": "markdown",
   "id": "8406809d-e5b1-4d60-ad6d-1733bbb1c481",
   "metadata": {},
   "source": [
    "3. Write a Python Program for array rotation?"
   ]
  },
  {
   "cell_type": "code",
   "execution_count": 3,
   "id": "b550150e-0535-4dfd-aaec-652e8992bb7c",
   "metadata": {},
   "outputs": [
    {
     "name": "stdin",
     "output_type": "stream",
     "text": [
      "Provide the number by which you want array to be rotated: 1\n"
     ]
    },
    {
     "name": "stdout",
     "output_type": "stream",
     "text": [
      "Rotated Array : [28, 1, 5, 9, 4]\n"
     ]
    }
   ],
   "source": [
    "def rotate_array(arr,num_rotate):\n",
    "    new_arr =[]\n",
    "    for i in range(num_rotate,len(arr)):\n",
    "        new_arr.append(arr[i])\n",
    "    for i in range(0,num_rotate):\n",
    "        new_arr.append(arr[i])\n",
    "    return new_arr\n",
    "\n",
    "\n",
    "array=[4,28,1,5,9]\n",
    "rotate_by = int(input(\"Provide the number by which you want array to be rotated:\"))\n",
    "result=rotate_array(array,rotate_by)\n",
    "\n",
    "print(\"Rotated Array :\",result)"
   ]
  },
  {
   "cell_type": "markdown",
   "id": "79a71eb8-f565-49f0-9a0c-8689795569dd",
   "metadata": {},
   "source": [
    "4. Write a Python Program to Split the array and add the first part to the end?"
   ]
  },
  {
   "cell_type": "code",
   "execution_count": 5,
   "id": "3dbedaf8-704f-4f3a-b0cd-76412db0e996",
   "metadata": {},
   "outputs": [
    {
     "name": "stdout",
     "output_type": "stream",
     "text": [
      "Splitted Array : [28, 1, 5, 9, 4]\n"
     ]
    }
   ],
   "source": [
    "array=[4,28,1,5,9]\n",
    "array_half= len(array)//2\n",
    "result==array[array_half:] +array[0:array_half]\n",
    "\n",
    "\n",
    "print(\"Splitted Array :\",result)"
   ]
  },
  {
   "cell_type": "markdown",
   "id": "c833a12e-7ca8-4ca2-b85f-825d98b89a5c",
   "metadata": {},
   "source": [
    "5. Write a Python Program to check if given array is Monotonic?"
   ]
  },
  {
   "cell_type": "code",
   "execution_count": 26,
   "id": "72e20b5b-0c4b-4859-8326-54e8698988cf",
   "metadata": {},
   "outputs": [
    {
     "name": "stdout",
     "output_type": "stream",
     "text": [
      "Given array : [1, 2, 3, 4, 5, 6, 7, 8] is Monotonic= \n"
     ]
    }
   ],
   "source": [
    "def is_monotonic(arr):\n",
    "    step = arr[1]-arr[0]\n",
    "    index =(0,0)\n",
    "    for i in range(len(arr)):\n",
    "        if i<len(arr)-1:\n",
    "            if arr[i+1] - arr[i] == step:\n",
    "                mono = True\n",
    "            else:\n",
    "                mono = False\n",
    "                index = (i, i+1)\n",
    "                break\n",
    "    return mono, index\n",
    "\n",
    "array=[1,2,3,4,5,6,7,8]\n",
    "monotonic_sts,index = is_monotonic(array)\n",
    "if monotonic_sts:\n",
    "    print(f'Given array : {array} is Monotonic')\n",
    "else:\n",
    "    print(f'Given array : {array} is Not Monotonic, failed at index: {index[0]} and {index[1]}')"
   ]
  },
  {
   "cell_type": "code",
   "execution_count": null,
   "id": "3335dfbc-256f-4800-9aa4-92b45017925d",
   "metadata": {},
   "outputs": [],
   "source": []
  },
  {
   "cell_type": "code",
   "execution_count": null,
   "id": "b05f93b1-bf28-44aa-8fb3-5189a0c547b9",
   "metadata": {},
   "outputs": [],
   "source": []
  }
 ],
 "metadata": {
  "kernelspec": {
   "display_name": "Python 3 (ipykernel)",
   "language": "python",
   "name": "python3"
  },
  "language_info": {
   "codemirror_mode": {
    "name": "ipython",
    "version": 3
   },
   "file_extension": ".py",
   "mimetype": "text/x-python",
   "name": "python",
   "nbconvert_exporter": "python",
   "pygments_lexer": "ipython3",
   "version": "3.9.13"
  }
 },
 "nbformat": 4,
 "nbformat_minor": 5
}
