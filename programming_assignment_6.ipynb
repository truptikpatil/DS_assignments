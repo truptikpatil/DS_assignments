{
 "cells": [
  {
   "cell_type": "markdown",
   "id": "31f8faaa-ac20-4343-8d05-eb0abe29976e",
   "metadata": {},
   "source": [
    "1. Write a Python Program to Display Fibonacci Sequence Using Recursion?"
   ]
  },
  {
   "cell_type": "code",
   "execution_count": 18,
   "id": "e22da061-2f48-4804-9f16-36b82f272928",
   "metadata": {},
   "outputs": [
    {
     "name": "stdin",
     "output_type": "stream",
     "text": [
      "Enter upto which term you want fibonacci sequence : 2\n"
     ]
    },
    {
     "name": "stdout",
     "output_type": "stream",
     "text": [
      "Fibonacci sequence upto 2 is :  0\n",
      "Fibonacci sequence upto 2 is :  1\n"
     ]
    }
   ],
   "source": [
    "def recursion_fibo(n):\n",
    "    if n<=1:\n",
    "        return n\n",
    "    else:\n",
    "        return (recursion_fibo(n-1)+recursion_fibo(n-2))\n",
    "\n",
    "n_term=int(input(\"Enter upto which term you want fibonacci sequence :\"))\n",
    "\n",
    "fibo_seq=recursion_fibo(n_term)\n",
    "\n",
    "\n",
    "for i in range(0,n_term):\n",
    "    \n",
    "    print(\"Fibonacci sequence upto\",n_term,\"is : \",)\n",
    "\n",
    "\n"
   ]
  },
  {
   "cell_type": "markdown",
   "id": "8e5d7bb8-1719-4653-9331-142e260a610f",
   "metadata": {},
   "source": [
    "2. Write a Python Program to Find Factorial of Number Using Recursion?"
   ]
  },
  {
   "cell_type": "code",
   "execution_count": 8,
   "id": "916c6428-2788-457f-b225-36d1b303c38a",
   "metadata": {},
   "outputs": [
    {
     "name": "stdin",
     "output_type": "stream",
     "text": [
      "Enter a number to find factorial : 5\n"
     ]
    },
    {
     "name": "stdout",
     "output_type": "stream",
     "text": [
      "The factorial of 5 is : 120\n"
     ]
    }
   ],
   "source": [
    "def recursion_fact(n):\n",
    "    \n",
    "    if n==1 or n==0:\n",
    "        return 1\n",
    "    else:\n",
    "        return n*recursion_fact(n-1)\n",
    "    \n",
    "num = int(input(\"Enter a number to find factorial :\"))\n",
    "\n",
    "if num>0:\n",
    "    fact= recursion_fact(num)\n",
    "    print(\"The factorial of\",num,\"is :\",fact)\n",
    "else:\n",
    "    print(\"Invalid input!Enter a positive integer number!\")\n",
    "\n"
   ]
  },
  {
   "cell_type": "markdown",
   "id": "4ad5074c-c2e8-4311-9853-f870491eb6dc",
   "metadata": {},
   "source": [
    "3. Write a Python Program to calculate your Body Mass Index?"
   ]
  },
  {
   "cell_type": "code",
   "execution_count": 13,
   "id": "6638ae3a-affa-4d1d-a5fe-c2158a30f003",
   "metadata": {},
   "outputs": [
    {
     "name": "stdin",
     "output_type": "stream",
     "text": [
      "Enter your weight in kilograms:  12.80\n",
      "Enter your height in meters:  0.82\n"
     ]
    },
    {
     "name": "stdout",
     "output_type": "stream",
     "text": [
      "Your BMI is: 19.036287923854854\n",
      "Conclusion: Normal Weight!\n"
     ]
    }
   ],
   "source": [
    "def calculate_bmi(wt,ht):\n",
    "    \n",
    "    bmi=wt/(ht**2)\n",
    "    \n",
    "    return bmi\n",
    "\n",
    "def bmi_result(bmi):\n",
    "    \n",
    "    if bmi<18.5:\n",
    "        return \"Underweight!\"\n",
    "    elif 18.5<=bmi<=24.9:\n",
    "        return \"Normal Weight!\"\n",
    "    elif 25<=bmi<=29.9:\n",
    "        return \"Overweight!\"\n",
    "    else:\n",
    "        return \"Obesity\"\n",
    "    \n",
    "wt = float(input(\"Enter your weight in kilograms: \"))\n",
    "ht = float(input(\"Enter your height in meters: \"))\n",
    "\n",
    "bmi=calculate_bmi(wt,ht)\n",
    "\n",
    "conclusion=bmi_result(bmi)\n",
    "\n",
    "print(\"Your BMI is:\", bmi)\n",
    "print(\"Conclusion:\", conclusion)\n",
    "        "
   ]
  },
  {
   "cell_type": "markdown",
   "id": "8018249d-ee49-4be2-baac-be3132da17b4",
   "metadata": {},
   "source": [
    "4. Write a Python Program to calculate the natural logarithm of any number?"
   ]
  },
  {
   "cell_type": "code",
   "execution_count": 46,
   "id": "8a1f62e3-fb0f-4268-888c-563b6be89027",
   "metadata": {},
   "outputs": [
    {
     "name": "stdin",
     "output_type": "stream",
     "text": [
      "Enter number : 2\n"
     ]
    },
    {
     "name": "stdout",
     "output_type": "stream",
     "text": [
      "Natural log of 2.0:  0.6931471805599453\n"
     ]
    }
   ],
   "source": [
    "import math\n",
    "num = float(input('Enter number :'))\n",
    "print(f'Natural log of {num}: ', math.log(num))"
   ]
  },
  {
   "cell_type": "markdown",
   "id": "a30daf55-2d63-48d2-bc67-c71610374828",
   "metadata": {},
   "source": [
    "5. Write a Python Program for cube sum of first n natural numbers?"
   ]
  },
  {
   "cell_type": "code",
   "execution_count": 41,
   "id": "85ba4d13-072b-42dc-9323-47f9cf670276",
   "metadata": {},
   "outputs": [
    {
     "name": "stdin",
     "output_type": "stream",
     "text": [
      "Enter number : 0\n"
     ]
    },
    {
     "name": "stdout",
     "output_type": "stream",
     "text": [
      "Invalid input\n"
     ]
    }
   ],
   "source": [
    "def cube(n):\n",
    "    return n**3\n",
    "\n",
    "num = int(input('Enter number :'))\n",
    "\n",
    "if num<1:\n",
    "    print('Invalid input')\n",
    "else:\n",
    "    SUM = 0\n",
    "    for i in range(num+1):\n",
    "              SUM = SUM +cube(i)\n",
    "    print(f'Sum of cubes till {num}: ', SUM)"
   ]
  },
  {
   "cell_type": "code",
   "execution_count": null,
   "id": "9352624f-f6f4-42d8-833e-4bcfcd559576",
   "metadata": {},
   "outputs": [],
   "source": []
  },
  {
   "cell_type": "code",
   "execution_count": null,
   "id": "b435ee50-aace-4929-9c74-5d1d563a4fb7",
   "metadata": {},
   "outputs": [],
   "source": []
  }
 ],
 "metadata": {
  "kernelspec": {
   "display_name": "Python 3 (ipykernel)",
   "language": "python",
   "name": "python3"
  },
  "language_info": {
   "codemirror_mode": {
    "name": "ipython",
    "version": 3
   },
   "file_extension": ".py",
   "mimetype": "text/x-python",
   "name": "python",
   "nbconvert_exporter": "python",
   "pygments_lexer": "ipython3",
   "version": "3.9.13"
  }
 },
 "nbformat": 4,
 "nbformat_minor": 5
}
